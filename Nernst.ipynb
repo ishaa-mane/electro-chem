{
 "cells": [
  {
   "cell_type": "markdown",
   "metadata": {},
   "source": [
    "# Concentration, Temperature and the Nernst Equation"
   ]
  },
  {
   "cell_type": "code",
   "execution_count": null,
   "metadata": {},
   "outputs": [],
   "source": [
    "%matplotlib widget\n",
    "import numpy as np\n",
    "import matplotlib.pyplot as plt\n",
    "from matplotlib.widgets import Slider, Button\n",
    "import matplotlib.transforms as transforms\n"
   ]
  },
  {
   "cell_type": "code",
   "execution_count": null,
   "metadata": {},
   "outputs": [],
   "source": [
    "# Change in cell potential with concentration and temperature\n",
    "def cell_potential(Ecell0, temperature, electrons, product_reactant_ratio):\n",
    "    R = 8.314  # J/mol/K\n",
    "    F = 96485  # C/mol\n",
    "    Ecell = Ecell0 - (((R*temperature)/(electrons*F))*np.log(product_reactant_ratio))\n",
    "    return Ecell\n",
    "    "
   ]
  },
  {
   "cell_type": "code",
   "execution_count": null,
   "metadata": {},
   "outputs": [],
   "source": [
    "# Vary the ratio of concentrations in the electrolyte\n",
    "varied_ratio = np.linspace(1e-5, 1e5, 1000)\n",
    "\n",
    "# Define initial temperature\n",
    "init_temperature = 298  # K\n",
    "\n",
    "# Create the figure and the line that we will manipulate\n",
    "Ecell_Cathode = 0.34 # V - Cu: Daniell Cell\n",
    "Ecell_Anode = - 0.76 # V - Zn: Daniell Cell\n",
    "Ecell = Ecell_Cathode - Ecell_Anode \n",
    "electrons = 2 # : Daniell Cell\n",
    "\n",
    "fig, ax = plt.subplots(figsize=(8, 8))\n",
    "line, = plt.plot(varied_ratio, cell_potential(Ecell, init_temperature, electrons, varied_ratio), lw=2)\n",
    "plt.title(\"Cell Potential with Varied Product/Reactant Ratio in Electrolyte\")\n",
    "plt.xlabel('Reactant/Product Ratio')\n",
    "plt.ylabel('Cell Potential: E_cell')\n",
    "\n",
    "plt.axhline(y=Ecell, color='r', linestyle='-')\n",
    "trans = transforms.blended_transform_factory(\n",
    "    ax.get_yticklabels()[0].get_transform(), ax.transData)\n",
    "plt.ylim(Ecell-0.3, Ecell+0.3)\n",
    "\n",
    "# Adjust the main plot to make room for the sliders\n",
    "plt.subplots_adjust(bottom=0.3)\n",
    "\n",
    "# Make sliders to control the temperature and number of moles.\n",
    "axtemp = plt.axes([0.25, 0.18, 0.6, 0.02])\n",
    "temp_slider = Slider(\n",
    "    ax=axtemp,\n",
    "    label='Temperature [K]',\n",
    "    valmin=150,\n",
    "    valmax=400,\n",
    "    valinit=init_temperature,\n",
    ")\n",
    "\n",
    "# The function to be called anytime a slider's value changes\n",
    "def update(val):\n",
    "    line.set_ydata(cell_potential(Ecell, temp_slider.val, electrons, varied_ratio))\n",
    "    fig.canvas.draw_idle()\n",
    "\n",
    "\n",
    "# Register the update function with each slider\n",
    "temp_slider.on_changed(update)\n",
    "\n",
    "# Create a 'matplotlib.widgets.Button' to reset the sliders to initial values.\n",
    "resetax = plt.axes([0.8, 0.05, 0.1, 0.04])\n",
    "button = Button(resetax, 'Reset', hovercolor='0.975')\n",
    "\n",
    "\n",
    "def reset(event):\n",
    "    temp_slider.reset()\n",
    "\n",
    "\n",
    "button.on_clicked(reset)\n"
   ]
  }
 ],
 "metadata": {
  "interpreter": {
   "hash": "38de0e692ef37122fc376da69e260caeb8942506e25329497cc15cccf2f3cbb5"
  },
  "kernelspec": {
   "display_name": "Python 3.10.2 64-bit ('venv': venv)",
   "language": "python",
   "name": "python3"
  },
  "language_info": {
   "codemirror_mode": {
    "name": "ipython",
    "version": 3
   },
   "file_extension": ".py",
   "mimetype": "text/x-python",
   "name": "python",
   "nbconvert_exporter": "python",
   "pygments_lexer": "ipython3",
   "version": "3.10.2"
  },
  "orig_nbformat": 4
 },
 "nbformat": 4,
 "nbformat_minor": 2
}
